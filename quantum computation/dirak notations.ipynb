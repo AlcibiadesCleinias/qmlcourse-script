{
 "cells": [
  {
   "cell_type": "code",
   "execution_count": 1,
   "id": "f084c59c-452a-4060-84af-5cf7e819e1c6",
   "metadata": {},
   "outputs": [],
   "source": [
    "import numpy as np\n",
    "import scipy as sp\n",
    "from scipy import linalg"
   ]
  },
  {
   "cell_type": "code",
   "execution_count": 4,
   "id": "844576cc-edd9-4a58-82db-c02e9f764548",
   "metadata": {},
   "outputs": [
    {
     "name": "stdout",
     "output_type": "stream",
     "text": [
      "True\n"
     ]
    }
   ],
   "source": [
    "# к определению унитарного оператора\n",
    "U_hat = np.array([\n",
    "    [1 + 0j, 0 + 0j],\n",
    "    [0 + 0j, 1 + 0j]\n",
    "    ])\n",
    "\n",
    "U_hat_star_byhands = U_hat.conj().T\n",
    "U_hat_star_long = np.conjugate(np.transpose(U_hat))\n",
    "\n",
    "print(np.allclose(U_hat_star_long, U_hat_star_byhands))"
   ]
  },
  {
   "cell_type": "code",
   "execution_count": 3,
   "id": "acb857af-1671-44ac-b11d-d92922573172",
   "metadata": {},
   "outputs": [
    {
     "data": {
      "text/plain": [
       "array([[1.-0.j, 0.-0.j],\n",
       "       [0.-0.j, 1.-0.j]])"
      ]
     },
     "execution_count": 3,
     "metadata": {},
     "output_type": "execute_result"
    }
   ],
   "source": [
    "U_hat_star_byhands"
   ]
  },
  {
   "cell_type": "code",
   "execution_count": 7,
   "id": "48668fa3-d993-4742-b63a-2542cdc64e14",
   "metadata": {},
   "outputs": [
    {
     "name": "stdout",
     "output_type": "stream",
     "text": [
      "U = array([[ 3.00000000e+00+0.00000000e+00j,  1.00000000e+00+1.73205081e+00j,\n",
      "        -3.33066907e-16+3.33066907e-16j],\n",
      "       [ 1.00000000e+00-1.73205081e+00j,  3.00000000e+00-2.97483363e-17j,\n",
      "         1.00000000e+00+1.73205081e+00j],\n",
      "       [-3.33066907e-16-3.33066907e-16j,  1.00000000e+00-1.73205081e+00j,\n",
      "         3.00000000e+00+3.66514617e-17j]])\n",
      "D = array([[ 1. +0.j       ,  1. +0.j       ,  1. +0.j       ],\n",
      "       [ 1. +0.j       ,  0.5-0.8660254j, -0.5-0.8660254j],\n",
      "       [ 1. +0.j       , -0.5-0.8660254j, -0.5+0.8660254j]])\n",
      "np.allclose(U @ U.T.conj(), np.eye(N)) = False\n",
      "\n",
      "np.allclose(U_hat @ U_hat.conj().T, np.eye(N)) = True\n",
      "\n",
      "np.allclose(U_hat.conj().T @ U_hat, np.eye(N)) = True\n"
     ]
    }
   ],
   "source": [
    "# любой эрмитов оператор приводится у унитарному через экспоненту\n",
    "N = 3\n",
    "w = np.sqrt(np.exp(-1j * 2 * np.pi / N))\n",
    "\n",
    "D = np.array([\n",
    "    [1, 1, 1],\n",
    "    [1, w, w ** 2],\n",
    "    [1, w ** 2, w ** 4]\n",
    "    ])\n",
    "\n",
    "U = D @ D.conj().T\n",
    "print(f\"{U = }\")\n",
    "\n",
    "print(f\"{D = }\")\n",
    "print(f\"{np.allclose(U @ U.T.conj(), np.eye(N)) = }\") # no\n",
    "\n",
    "U_hat = linalg.expm(1j * U)\n",
    "print(f\"\\n{np.allclose(U_hat @ U_hat.conj().T, np.eye(N)) = }\")\n",
    "print(f\"\\n{np.allclose(U_hat.conj().T @ U_hat, np.eye(N)) = }\")"
   ]
  },
  {
   "cell_type": "code",
   "execution_count": 22,
   "id": "d015fa9c-2c4c-4642-b682-7490af3ba3a7",
   "metadata": {},
   "outputs": [
    {
     "name": "stdout",
     "output_type": "stream",
     "text": [
      "np.eye(3, k=-1, dtype=int) = array([[0, 0, 0],\n",
      "       [1, 0, 0],\n",
      "       [0, 1, 0]])\n"
     ]
    }
   ],
   "source": [
    "# есть возможность указать индекс диагонали\n",
    "print(f\"{np.eye(3, k=-1, dtype=int) = }\")\n"
   ]
  },
  {
   "cell_type": "code",
   "execution_count": 33,
   "id": "356b2d0b-0c60-4d6b-b4db-0b019ae634a7",
   "metadata": {},
   "outputs": [
    {
     "name": "stdout",
     "output_type": "stream",
     "text": [
      "(array([1., 2., 3.]), array([[1., 0., 0.],\n",
      "       [0., 1., 0.],\n",
      "       [0., 0., 1.]]))\n"
     ]
    }
   ],
   "source": [
    "print(np.linalg.eig(np.diag((1, 2, 3))))"
   ]
  },
  {
   "cell_type": "code",
   "execution_count": 32,
   "id": "27cc2901-327d-4109-bcfa-4e7342a10981",
   "metadata": {},
   "outputs": [
    {
     "data": {
      "text/plain": [
       "array([[1., 0., 0.],\n",
       "       [1., 1., 0.],\n",
       "       [0., 1., 1.]])"
      ]
     },
     "execution_count": 32,
     "metadata": {},
     "output_type": "execute_result"
    }
   ],
   "source": [
    "M"
   ]
  },
  {
   "cell_type": "code",
   "execution_count": null,
   "id": "8f9103ee-5b06-417e-be81-a6bbedeeefad",
   "metadata": {},
   "outputs": [],
   "source": []
  }
 ],
 "metadata": {
  "kernelspec": {
   "display_name": "trash_venv",
   "language": "python",
   "name": "trash_venv"
  },
  "language_info": {
   "codemirror_mode": {
    "name": "ipython",
    "version": 3
   },
   "file_extension": ".py",
   "mimetype": "text/x-python",
   "name": "python",
   "nbconvert_exporter": "python",
   "pygments_lexer": "ipython3",
   "version": "3.9.6"
  }
 },
 "nbformat": 4,
 "nbformat_minor": 5
}
