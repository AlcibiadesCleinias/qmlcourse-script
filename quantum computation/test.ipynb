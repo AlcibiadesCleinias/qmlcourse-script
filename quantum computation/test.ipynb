{
 "cells": [
  {
   "cell_type": "code",
   "execution_count": 16,
   "id": "95d223ce-6460-4f3b-ac40-5d22518383c7",
   "metadata": {},
   "outputs": [
    {
     "name": "stdout",
     "output_type": "stream",
     "text": [
      "[ 1.+0.j -1.+0.j] [[-0.        -0.70710678j  0.70710678+0.j        ]\n",
      " [ 0.70710678+0.j          0.        -0.70710678j]]\n"
     ]
    }
   ],
   "source": [
    "import numpy as np\n",
    "# 2\n",
    "# A: eigenvalue not a zero\n",
    "\n",
    "# B\n",
    "pauli_y = np.array([[0 + 0j, 0 - 1j], [0 + 1j, 0 + 0j]])\n",
    "eigen_values, eigen_vectors = np.linalg.eig(pauli_y)\n",
    "print(eigen_values, eigen_vectors)\n",
    "\n",
    "# check const that proportion equal across the vectors\n",
    "answer1_vectors = np.array([1, 1j]), np.array([1j, 1])\n",
    "consts0 = eigen_vectors[0] / answer1_vectors[0]\n",
    "assert np.allclose(consts0[0], consts0[1])\n",
    "\n",
    "consts1 = eigen_vectors[1] / answer1_vectors[1]\n",
    "assert np.allclose(consts1[0], consts1[1])"
   ]
  },
  {
   "cell_type": "code",
   "execution_count": 4,
   "id": "a22419c3-3369-4fbb-b9b5-5fa2754868fa",
   "metadata": {},
   "outputs": [
    {
     "name": "stdout",
     "output_type": "stream",
     "text": [
      "False False True False\n"
     ]
    }
   ],
   "source": [
    "# 5\n",
    "import numpy as np\n",
    "pauli_x = np.array([[0 + 0j, 1 + 0j], [1 + 0j, 0 + 0j]])\n",
    "pauli_z = np.array([[1 + 0j, 0 + 0j], [0 + 0j, 0j - 1]])\n",
    "h = 1 / np.sqrt(2) * np.array([\n",
    "[1 + 0j, 1 + 0j],\n",
    "[1 + 0j, 0j - 1]\n",
    "])\n",
    "option_1 = pauli_z @ h @ pauli_z @ h\n",
    "option_2 = h @ pauli_z @ pauli_z @ h\n",
    "option_3 = h @ pauli_z @ h\n",
    "option_4 = pauli_z @ h @ pauli_z\n",
    "print(np.allclose(option_1, pauli_x),\n",
    "np.allclose(option_2, pauli_x),\n",
    "np.allclose(option_3, pauli_x),\n",
    "np.allclose(option_4, pauli_x))"
   ]
  },
  {
   "cell_type": "markdown",
   "id": "d100c546-1c1e-4b74-b99a-429938c5c47d",
   "metadata": {},
   "source": [
    "Чему равна вероятность получения битовой строĸи 10 при измерении в Z базисе состояния:\n",
    "\n",
    "(H^ ⊗ I^) CNOT (I^⊗ R^Y (0.7))|0⟩ ⊗ |0⟩)"
   ]
  },
  {
   "cell_type": "code",
   "execution_count": 17,
   "id": "ad9139cd-4e5e-4a8a-b368-5879cdfff785",
   "metadata": {},
   "outputs": [
    {
     "name": "stdout",
     "output_type": "stream",
     "text": [
      "[0.44121055+0.j]\n"
     ]
    }
   ],
   "source": [
    "# 6\n",
    "def ry(state, phi):\n",
    "    return np.array([\n",
    "        [np.cos(phi / 2), -np.sin(phi / 2)],\n",
    "        [np.sin(phi / 2), np.cos(phi / 2)]\n",
    "        ]) @ state\n",
    "\n",
    "cnot = (1 + 0j) * np.array(\n",
    "    [\n",
    "    [1, 0, 0, 0],\n",
    "    [0, 1, 0, 0],\n",
    "    [0, 0, 0, 1],\n",
    "    [0, 0, 1, 0],\n",
    "    ]\n",
    ")\n",
    "\n",
    "basis = np.array([1 + 0j, 0 + 0j]).reshape((2, 1))\n",
    "\n",
    "op = np.kron(h, np.eye(2)) @ cnot @ np.kron(np.eye(2), ry(np.eye(2), 0.7))\n",
    "\n",
    "init_state = np.kron(basis, basis)\n",
    "\n",
    "final_state = op @ init_state\n",
    "# Вероятность получения битовой строки 10 равно квадрату третьего элемента\n",
    "# вектора финального состояния\n",
    "# (строка 10 – третья в лексикографическом порядке 00, 01, 10, 11).\n",
    "print(final_state[2].conj() * final_state[2])"
   ]
  },
  {
   "cell_type": "code",
   "execution_count": 25,
   "id": "a90e843b-7e7e-4562-ae4d-7d14c570b3ef",
   "metadata": {},
   "outputs": [
    {
     "data": {
      "text/plain": [
       "array([[0.66423682+0.j],\n",
       "       [0.24246536+0.j],\n",
       "       [0.66423682+0.j],\n",
       "       [0.24246536+0.j]])"
      ]
     },
     "execution_count": 25,
     "metadata": {},
     "output_type": "execute_result"
    }
   ],
   "source": [
    "final_state"
   ]
  },
  {
   "cell_type": "code",
   "execution_count": 22,
   "id": "663c96f8-aedd-455a-8e42-7de58edf3f60",
   "metadata": {},
   "outputs": [
    {
     "data": {
      "text/plain": [
       "array([[1.+0.j],\n",
       "       [0.+0.j],\n",
       "       [0.+0.j],\n",
       "       [0.+0.j]])"
      ]
     },
     "execution_count": 22,
     "metadata": {},
     "output_type": "execute_result"
    }
   ],
   "source": [
    "init_state"
   ]
  },
  {
   "cell_type": "code",
   "execution_count": 26,
   "id": "779a4e38-21e1-41f8-9e59-0ab303bb632d",
   "metadata": {},
   "outputs": [
    {
     "name": "stdout",
     "output_type": "stream",
     "text": [
      "[[0.+1.01465364e-17j]] [[-1.+0.j]] [[1.99673462e-16+0.j]]\n"
     ]
    }
   ],
   "source": [
    "# 7\n",
    "# Реализуйте поворот веĸтора состояния |0> на угол [i/2] с помощью оператора RX\n",
    "\n",
    "def rx(state, phi):\n",
    "    return np.array([\n",
    "    [np.cos(phi / 2), -1j * np.sin(phi / 2)],\n",
    "    [-1j * np.sin(phi / 2), np.cos(phi / 2)]\n",
    "    ]) @ state\n",
    "\n",
    "pauli_y = np.array([[0 + 0j, 0 - 1j], [0 + 1j, 0 + 0j]])\n",
    "\n",
    "state = np.array([1 + 0j, 0 + 0j]).reshape((2, 1))\n",
    "\n",
    "op = rx(state, np.deg2rad(90))\n",
    "\n",
    "# Результаты близки к 0, -1, 0\n",
    "print(\n",
    "    op.conj().T @ pauli_x @ op, \n",
    "    op.conj().T @ pauli_y @ op, \n",
    "    op.conj().T @ pauli_z @ op,\n",
    ")"
   ]
  },
  {
   "cell_type": "code",
   "execution_count": 24,
   "id": "4ff31ef0-498d-4f1d-b009-aad6fc14b79c",
   "metadata": {},
   "outputs": [
    {
     "name": "stdout",
     "output_type": "stream",
     "text": [
      "0.0\n",
      "-0.9999999999999998\n",
      "2.220446049250313e-16\n"
     ]
    }
   ],
   "source": [
    "import pennylane as qml\n",
    "import pennylane.numpy as np\n",
    "device = qml.device(\"default.qubit\", 1)\n",
    "\n",
    "@qml.qnode(device)\n",
    "def test_x(angle):\n",
    "    qml.RX(angle, wires=0)\n",
    "    return qml.expval(qml.PauliX(0))\n",
    "\n",
    "@qml.qnode(device)\n",
    "def test_y(angle):\n",
    "    qml.RX(angle, wires=0)\n",
    "    return qml.expval(qml.PauliY(0))\n",
    "\n",
    "@qml.qnode(device)\n",
    "def test_z(angle):\n",
    "    qml.RX(angle, wires=0)\n",
    "    return qml.expval(qml.PauliZ(0))\n",
    "\n",
    "# Результаты близки к 0, -1, 0\n",
    "print(test_x(np.deg2rad(90)))\n",
    "print(test_y(np.deg2rad(90)))\n",
    "print(test_z(np.deg2rad(90)))"
   ]
  },
  {
   "cell_type": "code",
   "execution_count": null,
   "id": "ec13a0a8-6ea2-4d63-8322-fb810c6106d9",
   "metadata": {},
   "outputs": [],
   "source": []
  }
 ],
 "metadata": {
  "kernelspec": {
   "display_name": "trash_venv",
   "language": "python",
   "name": "trash_venv"
  },
  "language_info": {
   "codemirror_mode": {
    "name": "ipython",
    "version": 3
   },
   "file_extension": ".py",
   "mimetype": "text/x-python",
   "name": "python",
   "nbconvert_exporter": "python",
   "pygments_lexer": "ipython3",
   "version": "3.9.6"
  }
 },
 "nbformat": 4,
 "nbformat_minor": 5
}
