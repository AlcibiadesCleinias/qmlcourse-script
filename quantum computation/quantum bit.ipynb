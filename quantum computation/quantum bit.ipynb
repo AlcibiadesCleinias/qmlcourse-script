{
 "cells": [
  {
   "cell_type": "code",
   "execution_count": 1,
   "id": "212ae588-2cfd-4842-83e0-9ef2de6ffef3",
   "metadata": {},
   "outputs": [],
   "source": [
    "import numpy as np\n",
    "qubit = np.array([1 / np.sqrt(2) + 0j, 1 / np.sqrt(2) + 0j]).reshape((2, 1))"
   ]
  },
  {
   "cell_type": "code",
   "execution_count": 2,
   "id": "5af2cf12-02e8-4030-bf2a-29d8a162f4ff",
   "metadata": {},
   "outputs": [
    {
     "data": {
      "text/plain": [
       "array([[0.70710678+0.j],\n",
       "       [0.70710678+0.j]])"
      ]
     },
     "execution_count": 2,
     "metadata": {},
     "output_type": "execute_result"
    }
   ],
   "source": [
    "qubit"
   ]
  },
  {
   "cell_type": "code",
   "execution_count": 3,
   "id": "1d7afc7d-2eb7-4b5e-8571-08243353251e",
   "metadata": {},
   "outputs": [
    {
     "name": "stdout",
     "output_type": "stream",
     "text": [
      "True\n"
     ]
    }
   ],
   "source": [
    "# Z basis: |0> |1>\n",
    "basis_0 = np.array([1 + 0j, 0 + 0j]).reshape((2, 1))\n",
    "basis_1 = np.array([0 + 0j, 1 + 0j]).reshape((2, 1))\n",
    "\n",
    "c0 = c1 = 1 / np.sqrt(2)\n",
    "\n",
    "print(np.allclose(qubit, c0 * basis_0 + c1 * basis_1))"
   ]
  },
  {
   "cell_type": "code",
   "execution_count": 4,
   "id": "bd85a953-fbdf-4960-b9f8-f1362c86df6c",
   "metadata": {},
   "outputs": [
    {
     "name": "stdout",
     "output_type": "stream",
     "text": [
      "True\n",
      "True\n"
     ]
    }
   ],
   "source": [
    "# probability for 1 and 0: its is about coeff in linear decomposition\n",
    "p0 = np.conj(c0) * c0\n",
    "p1 = np.conj(c1) * c1\n",
    "\n",
    "print(np.allclose(p0, p1))\n",
    "print(np.allclose(p0 + p1, 1.0))"
   ]
  },
  {
   "cell_type": "code",
   "execution_count": 6,
   "id": "1769f309-7fc1-4390-a269-9d9369ce6cae",
   "metadata": {},
   "outputs": [
    {
     "data": {
      "text/plain": [
       "(0.4999999999999999, 0.4999999999999999)"
      ]
     },
     "execution_count": 6,
     "metadata": {},
     "output_type": "execute_result"
    }
   ],
   "source": [
    "p0, p1"
   ]
  },
  {
   "cell_type": "code",
   "execution_count": 16,
   "id": "d38dc479-2e48-4946-851f-324e6edb3653",
   "metadata": {},
   "outputs": [
    {
     "name": "stdout",
     "output_type": "stream",
     "text": [
      "True\n"
     ]
    }
   ],
   "source": [
    "print(np.allclose(np.conj(qubit).T @ qubit, 1))"
   ]
  },
  {
   "cell_type": "code",
   "execution_count": 18,
   "id": "71c6ca99-7a93-4fad-928f-72775c027730",
   "metadata": {},
   "outputs": [],
   "source": [
    "# X basis: |+> |->\n",
    "plus = (basis_0 + basis_1) / np.sqrt(2)\n",
    "minus = (basis_0 - basis_1) / np.sqrt(2)"
   ]
  },
  {
   "cell_type": "code",
   "execution_count": 19,
   "id": "3899090f-ccfa-409f-9bdd-074c59efd08b",
   "metadata": {},
   "outputs": [],
   "source": [
    "# Y basis\n",
    "R = (basis_0 + 1j * basis_1) / np.sqrt(2)\n",
    "L = (basis_0 - 1j * basis_1) / np.sqrt(2)"
   ]
  },
  {
   "cell_type": "code",
   "execution_count": 22,
   "id": "35ed3f4a-ce4b-4bbf-9693-547389765a84",
   "metadata": {},
   "outputs": [
    {
     "data": {
      "text/plain": [
       "True"
      ]
     },
     "execution_count": 22,
     "metadata": {},
     "output_type": "execute_result"
    }
   ],
   "source": [
    "np.allclose(np.conj(R).T @ L, 0)"
   ]
  },
  {
   "cell_type": "markdown",
   "id": "fb365269-7801-45ae-b725-761dcf09d580",
   "metadata": {},
   "source": [
    "# 1 qubit Gates"
   ]
  },
  {
   "cell_type": "code",
   "execution_count": 23,
   "id": "73fd717d-d50d-46e0-9893-94f40b46282f",
   "metadata": {},
   "outputs": [],
   "source": [
    "# Hadamar: 0 -> +\n",
    "h = 1 / np.sqrt(2) * np.array([\n",
    "    [1 + 0j, 1 + 0j],\n",
    "    [1 + 0j, 0j - 1]\n",
    "])"
   ]
  },
  {
   "cell_type": "code",
   "execution_count": 29,
   "id": "a9251a88-e6e3-4253-b999-6f83fa04f367",
   "metadata": {},
   "outputs": [
    {
     "name": "stdout",
     "output_type": "stream",
     "text": [
      "True\n",
      "True\n"
     ]
    }
   ],
   "source": [
    "print(np.allclose(np.conj(h).T @ h, np.eye(2)))\n",
    "print(np.allclose(basis_0.T @ h, plus))"
   ]
  },
  {
   "cell_type": "code",
   "execution_count": 31,
   "id": "71787f8a-bf89-4c98-be73-b6be1232d788",
   "metadata": {},
   "outputs": [],
   "source": [
    "# Pauly operators: measurments\n",
    "pauli_x = np.array([[0 + 0j, 1 + 0j], [1 + 0j, 0 + 0j]])\n",
    "pauli_y = np.array([[0 + 0j, 0 - 1j], [0 + 1j, 0 + 0j]])\n",
    "pauli_z = np.array([[1 + 0j, 0 + 0j], [0 + 0j, 0j - 1]])"
   ]
  },
  {
   "cell_type": "code",
   "execution_count": 36,
   "id": "5f6e4a95-ece4-4504-912a-05ad4284c720",
   "metadata": {},
   "outputs": [
    {
     "data": {
      "text/plain": [
       "(array([ 1.+0.j, -1.+0.j]),\n",
       " array([[1.+0.j, 0.+0.j],\n",
       "        [0.+0.j, 1.+0.j]]))"
      ]
     },
     "execution_count": 36,
     "metadata": {},
     "output_type": "execute_result"
    }
   ],
   "source": [
    "np.linalg.eig(pauli_z)"
   ]
  },
  {
   "cell_type": "code",
   "execution_count": 37,
   "id": "0e9fc79b-cf9b-483e-b777-7ae9b0ec1bc2",
   "metadata": {},
   "outputs": [
    {
     "name": "stdout",
     "output_type": "stream",
     "text": [
      "(array([ 1.+0.j, -1.+0.j]), array([[ 0.70710678-0.j,  0.70710678+0.j],\n",
      "       [ 0.70710678+0.j, -0.70710678-0.j]]))\n",
      "(array([ 1.+0.j, -1.+0.j]), array([[-0.        -0.70710678j,  0.70710678+0.j        ],\n",
      "       [ 0.70710678+0.j        ,  0.        -0.70710678j]]))\n"
     ]
    }
   ],
   "source": [
    "print(np.linalg.eig(pauli_x))\n",
    "print(np.linalg.eig(pauli_y))"
   ]
  },
  {
   "cell_type": "code",
   "execution_count": 38,
   "id": "361d3502-e54b-43d3-842e-80357da3e36a",
   "metadata": {},
   "outputs": [
    {
     "name": "stdout",
     "output_type": "stream",
     "text": [
      "[[-2.23711432e-17+0.j]]\n"
     ]
    }
   ],
   "source": [
    "# nothing can be said about M of sigma_z from +\n",
    "print(plus.conj().T @ pauli_z @ plus)"
   ]
  },
  {
   "cell_type": "code",
   "execution_count": 39,
   "id": "b75e2abe-2de7-429b-974f-9c7ebbc7b738",
   "metadata": {},
   "outputs": [
    {
     "name": "stdout",
     "output_type": "stream",
     "text": [
      "[[1.+0.j]]\n"
     ]
    }
   ],
   "source": [
    "print(plus.conj().T @ pauli_x @ plus)"
   ]
  },
  {
   "cell_type": "code",
   "execution_count": 40,
   "id": "53d8bf43-4e03-4bed-96f4-f5abd40ad6b7",
   "metadata": {},
   "outputs": [],
   "source": [
    "# projections\n",
    "# Born rule\n",
    "super_position = h @ basis_0\n",
    "eigenvectors = np.linalg.eig(pauli_z)[1]\n",
    "\n",
    "proj_0 = eigenvectors[0].reshape((-1, 1)) @ eigenvectors[0].reshape((1, -1))\n",
    "proj_1 = eigenvectors[1].reshape((-1, 1)) @ eigenvectors[1].reshape((1, -1))"
   ]
  },
  {
   "cell_type": "code",
   "execution_count": 41,
   "id": "a62ed0f7-608a-470c-b136-34b0f81f1e85",
   "metadata": {},
   "outputs": [
    {
     "data": {
      "text/plain": [
       "array([[1.+0.j, 0.+0.j],\n",
       "       [0.+0.j, 0.+0.j]])"
      ]
     },
     "execution_count": 41,
     "metadata": {},
     "output_type": "execute_result"
    }
   ],
   "source": [
    "proj_0"
   ]
  },
  {
   "cell_type": "code",
   "execution_count": 42,
   "id": "8c95d2c9-89da-4293-9ff6-4f243159685c",
   "metadata": {},
   "outputs": [
    {
     "name": "stdout",
     "output_type": "stream",
     "text": [
      "True\n",
      "True\n"
     ]
    }
   ],
   "source": [
    "p_0 = super_position.conj().T @ proj_0 @ super_position\n",
    "p_1 = super_position.conj().T @ proj_1 @ super_position\n",
    "\n",
    "print(np.allclose(p_0 + p_1, 1.0))\n",
    "print(np.allclose(p_0, 0.5))"
   ]
  },
  {
   "cell_type": "code",
   "execution_count": 43,
   "id": "16a09e20-5ca6-4a85-8f3b-d889f0641919",
   "metadata": {},
   "outputs": [],
   "source": [
    "# RY, RX, RZ gates\n",
    "\n",
    "# RY\n",
    "def ry(state, phi):\n",
    "    return np.array([\n",
    "        [np.cos(phi / 2), -np.sin(phi / 2)],\n",
    "        [np.sin(phi / 2),  np.cos(phi / 2)]\n",
    "    ]) @ state"
   ]
  },
  {
   "cell_type": "code",
   "execution_count": 44,
   "id": "8bdc6603-f5c1-4b65-a786-d0ee96ab4ae6",
   "metadata": {},
   "outputs": [
    {
     "name": "stdout",
     "output_type": "stream",
     "text": [
      "True\n",
      "True\n"
     ]
    }
   ],
   "source": [
    "# check for 0 with rotation by OY on pi/2 will lead to 1 (on OX) [as according to Bloh sphere]\n",
    "def expval(state, op):  # measure state by pauli operator\n",
    "    return state.conj().T @ op @ state\n",
    "\n",
    "pauli_x = np.array([[0 + 0j, 1 + 0j], [1 + 0j, 0 + 0j]])\n",
    "\n",
    "print(np.allclose(expval(ry(basis_0, np.pi / 2), pauli_x), 1.0))\n",
    "print(np.allclose(expval(ry(basis_0, -np.pi / 2), pauli_x), -1.0))"
   ]
  },
  {
   "cell_type": "code",
   "execution_count": 47,
   "id": "4b474b44-6aa2-4930-b9a3-891bce72b4ac",
   "metadata": {},
   "outputs": [
    {
     "name": "stdout",
     "output_type": "stream",
     "text": [
      "True\n"
     ]
    }
   ],
   "source": [
    "random_state = np.array([0.42 + 0j, np.sqrt(1 - 0.42**2) + 0j]).reshape((2, 1))\n",
    "state2pi = ry(random_state, 2 * np.pi)\n",
    "\n",
    "print(np.allclose(expval(state2pi, pauli_x), expval(random_state, pauli_x)))"
   ]
  },
  {
   "cell_type": "code",
   "execution_count": 48,
   "id": "bf2c3e9e-b9d8-4941-92b1-a669beadc03f",
   "metadata": {},
   "outputs": [
    {
     "name": "stdout",
     "output_type": "stream",
     "text": [
      "Z:\n",
      "\t[[-0.6472+0.j]]\n",
      "\n",
      "X:\n",
      "\t[[0.76232025+0.j]]\n",
      "\n",
      "Z after RY:\n",
      "\t[[-0.6472+0.j]]\n",
      "\n",
      "X after RY:\n",
      "\t[[0.76232025+0.j]]\n",
      "\n"
     ]
    }
   ],
   "source": [
    "pauli_z = np.array([[1 + 0j, 0 + 0j], [0 + 0j, 0j - 1]])\n",
    "\n",
    "print(\"Z:\\n\\t\" + str(expval(random_state, pauli_z)) + \"\\n\")\n",
    "print(\"X:\\n\\t\" + str(expval(random_state, pauli_x)) + \"\\n\")\n",
    "\n",
    "print(\"Z after RY:\\n\\t\" + str(expval(ry(random_state, 2 * np.pi), pauli_z)) + \"\\n\")\n",
    "print(\"X after RY:\\n\\t\" + str(expval(ry(random_state, 2 * np.pi), pauli_x)) + \"\\n\")"
   ]
  },
  {
   "cell_type": "code",
   "execution_count": 49,
   "id": "b3e06f76-168d-4262-b596-84af9ccaf41b",
   "metadata": {},
   "outputs": [],
   "source": [
    "# phase-shift gate aka RZ\n",
    "def u1(state, phi):\n",
    "    return np.array([[1, 0], [0, np.exp(1j * phi)]]) @ state"
   ]
  },
  {
   "cell_type": "code",
   "execution_count": 53,
   "id": "c51091d6-ebc5-4d5a-b148-8e74ced297eb",
   "metadata": {},
   "outputs": [
    {
     "name": "stdout",
     "output_type": "stream",
     "text": [
      "True\n"
     ]
    }
   ],
   "source": [
    "# equation for u2 = u1(lambda + phi) RZ(-lambda) RY(phi/2) RZ(lambda)\n",
    "def rz(state, phi):\n",
    "    return np.array([[np.exp(-1j * phi / 2), 0], [0, np.exp(1j * phi / 2)]]) @ state\n",
    "\n",
    "\n",
    "def u2_direct(phi, l):\n",
    "    return (\n",
    "        1\n",
    "        / np.sqrt(2)\n",
    "        * np.array([[1, -np.exp(1j * l)], [np.exp(1j * phi), np.exp(1j * (phi + l))]])\n",
    "    )\n",
    "\n",
    "def u2_inferenced(phi, l):\n",
    "    state = np.eye(2)  # hardcore for pruf\n",
    "    return (\n",
    "        u1(state, phi + l)\n",
    "        @ rz(state, -l)\n",
    "        @ ry(state, np.pi / 2)\n",
    "        @ rz(state, l)\n",
    "    )\n",
    "print(np.allclose(u2_direct(np.pi / 6, np.pi / 3), u2_inferenced(np.pi / 6, np.pi / 3)))"
   ]
  },
  {
   "cell_type": "code",
   "execution_count": 58,
   "id": "1d0a0e07-54ed-4c6d-a8fb-e9c25bd25836",
   "metadata": {},
   "outputs": [
    {
     "name": "stdout",
     "output_type": "stream",
     "text": [
      "True\n",
      "False\n"
     ]
    }
   ],
   "source": [
    "# before using gate with phase change: it is better to use non |0>, or ur operator, e.g. u1, will not change.\n",
    "# Use Hadamar for example: 0 -> +\n",
    "# and ur operator will lead to smth\n",
    "print(np.allclose(u1(basis_0, np.pi / 6), basis_0))\n",
    "\n",
    "h = 1 / np.sqrt(2) * np.array([[1 + 0j, 1 + 0j], [1 + 0j, 0j - 1]])\n",
    "print(np.allclose(u1(h @ basis_0, np.pi / 6), h @ basis_0))"
   ]
  },
  {
   "cell_type": "code",
   "execution_count": 59,
   "id": "03490493-0c70-4759-ac85-26e5c6cea703",
   "metadata": {},
   "outputs": [
    {
     "name": "stdout",
     "output_type": "stream",
     "text": [
      "[[1.+0.j 0.+0.j]\n",
      " [0.+0.j 1.+0.j]]\n"
     ]
    }
   ],
   "source": [
    "identity_gate = np.eye(2, dtype=np.complex128)\n",
    "print(identity_gate)"
   ]
  },
  {
   "cell_type": "markdown",
   "id": "a1e8c9bb-8463-4302-a0eb-b64b24481d2d",
   "metadata": {},
   "source": [
    "# Multi Qubit Gates"
   ]
  },
  {
   "cell_type": "code",
   "execution_count": 60,
   "id": "199eccf2-1b42-44f4-9bd5-cf3f840fe517",
   "metadata": {},
   "outputs": [
    {
     "name": "stdout",
     "output_type": "stream",
     "text": [
      "True\n"
     ]
    }
   ],
   "source": [
    "basis = basis_0\n",
    "print(np.allclose(\n",
    "    np.kron(h @ basis, basis), \n",
    "    np.kron(h, identity_gate) @ np.kron(basis, basis))\n",
    "     )"
   ]
  },
  {
   "cell_type": "code",
   "execution_count": 62,
   "id": "a362cad6-4ed2-427d-a55a-d225b129df37",
   "metadata": {},
   "outputs": [
    {
     "data": {
      "text/plain": [
       "array([[1.+0.j]])"
      ]
     },
     "execution_count": 62,
     "metadata": {},
     "output_type": "execute_result"
    }
   ],
   "source": [
    "# measure ZZ\n",
    "np.kron(np.conj(basis).T, np.conj(basis).T) @ np.kron(pauli_z, pauli_z) @ np.kron(basis,basis)"
   ]
  },
  {
   "cell_type": "code",
   "execution_count": 66,
   "id": "b1c7370f-d5a0-4b81-a41f-51ed00b337ba",
   "metadata": {},
   "outputs": [
    {
     "name": "stdout",
     "output_type": "stream",
     "text": [
      "True\n",
      "True\n"
     ]
    }
   ],
   "source": [
    "# cnot gate (CX gate)\n",
    "# note: pauly_x: 0 -> 1 and reverse\n",
    "cnot = (1 + 0j) * np.array(\n",
    "    [\n",
    "        [1, 0, 0, 0],\n",
    "        [0, 1, 0, 0],\n",
    "        [0, 0, 0, 1],\n",
    "        [0, 0, 1, 0],\n",
    "    ]\n",
    ")\n",
    "\n",
    "print(np.allclose(cnot @ np.kron(basis, basis), np.kron(basis, basis)))\n",
    "print(np.allclose(\n",
    "    cnot @ np.kron(pauli_x @ basis, basis), \n",
    "    np.kron(pauli_x @ basis, pauli_x @ basis)\n",
    "))"
   ]
  },
  {
   "cell_type": "code",
   "execution_count": 67,
   "id": "842e2acc-a5a0-4075-b832-e0e6b863fbc6",
   "metadata": {},
   "outputs": [
    {
     "data": {
      "text/plain": [
       "(array([[0.+0.j],\n",
       "        [1.+0.j]]),\n",
       " array([[1.+0.j],\n",
       "        [0.+0.j]]))"
      ]
     },
     "execution_count": 67,
     "metadata": {},
     "output_type": "execute_result"
    }
   ],
   "source": [
    "pauli_x @ basis, basis"
   ]
  },
  {
   "cell_type": "markdown",
   "id": "587db0bd-702e-4587-964b-6f577d068fd5",
   "metadata": {},
   "source": [
    "# pennylane"
   ]
  },
  {
   "cell_type": "code",
   "execution_count": null,
   "id": "04a1a72f-d4d5-4aa0-98f5-c6fbb9b7ecf5",
   "metadata": {},
   "outputs": [],
   "source": []
  },
  {
   "cell_type": "code",
   "execution_count": null,
   "id": "135ec616-bfe9-4299-b041-bb14b168f3cf",
   "metadata": {},
   "outputs": [],
   "source": []
  },
  {
   "cell_type": "code",
   "execution_count": 73,
   "id": "b3bdfbf0-4d24-4733-80b0-81d2402b9b80",
   "metadata": {},
   "outputs": [
    {
     "data": {
      "text/plain": [
       "(array([[1.+0.j],\n",
       "        [0.+0.j],\n",
       "        [0.+0.j],\n",
       "        [0.+0.j]]),\n",
       " array([[1.+0.j],\n",
       "        [0.+0.j]]))"
      ]
     },
     "execution_count": 73,
     "metadata": {},
     "output_type": "execute_result"
    }
   ],
   "source": [
    "np.kron(basis, basis), basis"
   ]
  },
  {
   "cell_type": "code",
   "execution_count": 75,
   "id": "5a468511-90ca-4bd0-83dc-5e89b17a80eb",
   "metadata": {},
   "outputs": [
    {
     "data": {
      "text/plain": [
       "array([[ 0.92387953+0.j,  0.        +0.j, -0.38268343+0.j,\n",
       "        -0.        +0.j],\n",
       "       [ 0.        +0.j,  0.92387953+0.j, -0.        +0.j,\n",
       "        -0.38268343+0.j],\n",
       "       [ 0.38268343+0.j,  0.        +0.j,  0.92387953+0.j,\n",
       "         0.        +0.j],\n",
       "       [ 0.        +0.j,  0.38268343+0.j,  0.        +0.j,\n",
       "         0.92387953+0.j]])"
      ]
     },
     "execution_count": 75,
     "metadata": {},
     "output_type": "execute_result"
    }
   ],
   "source": [
    "np.kron(ry(np.eye(2), np.deg2rad(45)), np.eye(2, dtype=np.complex128))"
   ]
  },
  {
   "cell_type": "code",
   "execution_count": 77,
   "id": "ffe369bd-2471-4e25-b60e-1370f6f50415",
   "metadata": {},
   "outputs": [
    {
     "data": {
      "text/plain": [
       "array([[ 0.92387953, -0.38268343],\n",
       "       [ 0.38268343,  0.92387953]])"
      ]
     },
     "execution_count": 77,
     "metadata": {},
     "output_type": "execute_result"
    }
   ],
   "source": [
    "ry(np.eye(2), np.deg2rad(45))"
   ]
  },
  {
   "cell_type": "code",
   "execution_count": 78,
   "id": "0842f9bf-2437-4a19-afbb-3fb103b86dd4",
   "metadata": {},
   "outputs": [
    {
     "name": "stdout",
     "output_type": "stream",
     "text": [
      "[[0.70710678+0.j]]\n"
     ]
    }
   ],
   "source": [
    "# Напишем функцию, которая поворачивает первый кубит на 45, после чего измеряет оба кубита по оси Z\n",
    "state = np.kron(basis, basis)\n",
    "op = np.kron(ry(np.eye(2), np.deg2rad(45)), np.eye(2, dtype=np.complex128))  # почему np.eye? когда скармливать нужно стейт\n",
    "measure = np.kron(pauli_z, pauli_z)\n",
    "\n",
    "print((op @ state).conj().T @ measure @ (op @ state))"
   ]
  },
  {
   "cell_type": "code",
   "execution_count": 80,
   "id": "93de6aca-58b1-4a93-8705-efe9ef3fd7f8",
   "metadata": {},
   "outputs": [
    {
     "name": "stdout",
     "output_type": "stream",
     "text": [
      "0.7071067811865475\n"
     ]
    }
   ],
   "source": [
    "import pennylane as qml\n",
    "device = qml.device(\"default.qubit\", 2)\n",
    "\n",
    "@qml.qnode(device)\n",
    "def test(angle):\n",
    "    qml.RY(angle, wires=0)\n",
    "    return qml.expval(qml.PauliZ(0) @ qml.PauliZ(1))\n",
    "\n",
    "\n",
    "print(test(np.deg2rad(45)))"
   ]
  },
  {
   "cell_type": "code",
   "execution_count": null,
   "id": "45f89c64-68e5-48e7-a7ac-e9f76a68695a",
   "metadata": {},
   "outputs": [],
   "source": []
  }
 ],
 "metadata": {
  "kernelspec": {
   "display_name": "trash_venv",
   "language": "python",
   "name": "trash_venv"
  },
  "language_info": {
   "codemirror_mode": {
    "name": "ipython",
    "version": 3
   },
   "file_extension": ".py",
   "mimetype": "text/x-python",
   "name": "python",
   "nbconvert_exporter": "python",
   "pygments_lexer": "ipython3",
   "version": "3.9.6"
  }
 },
 "nbformat": 4,
 "nbformat_minor": 5
}
